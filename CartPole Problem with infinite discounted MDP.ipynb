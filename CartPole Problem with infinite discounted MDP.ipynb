{
 "cells": [
  {
   "cell_type": "markdown",
   "id": "9eaa0ae3",
   "metadata": {},
   "source": [
    "# CartPole problem approach using infinite discounted MDP"
   ]
  },
  {
   "cell_type": "markdown",
   "id": "9babca98",
   "metadata": {},
   "source": [
    "### Problem\n",
    "The objective in this task is to apply forces to a cart moving along a track so as to keep a pole hinged to the cart from falling over: A failure is said to occur if the pole falls past a given angle from vertical or if the cart runs off the track. The pole is reset to vertical after each failure."
   ]
  },
  {
   "cell_type": "markdown",
   "id": "ad747ab4",
   "metadata": {},
   "source": [
    "Going to use gym for the cart game, don't want to implement the whole game myself since focus is more on MDP's"
   ]
  },
  {
   "cell_type": "markdown",
   "id": "b3a6a292",
   "metadata": {},
   "source": [
    "Some stuff to define for MDP:  \n",
    "1. State space:\n",
    " - Cart pos\n",
    " - Cart speed\n",
    " - Pole angle\n",
    " - Pole speed\n",
    "\n",
    "2. Action space:\n",
    " - Cart left\n",
    " - Cart right"
   ]
  },
  {
   "cell_type": "code",
   "execution_count": 1,
   "id": "35a354b7",
   "metadata": {},
   "outputs": [],
   "source": [
    "import gymnasium as gym"
   ]
  },
  {
   "cell_type": "code",
   "execution_count": null,
   "id": "9255d940",
   "metadata": {},
   "outputs": [],
   "source": [
    "env = gym.make('CartPole-v1', render_mode=\"human\")\n",
    "observation, info = env.reset()\n",
    "\n",
    "for _ in range(1000):\n",
    "    \n",
    "    action = env.action_space.sample()\n",
    "    observation, reward, terminated, truncated, info = env.step(action)\n",
    "    \n",
    "    if terminated or truncated:\n",
    "        observation, info = env.reset()\n",
    "\n",
    "env.close()"
   ]
  },
  {
   "cell_type": "markdown",
   "id": "72809b42",
   "metadata": {},
   "source": [
    "Also important, ```env.render()``` kills kernel sometimes so not going to use it in the notebook"
   ]
  },
  {
   "cell_type": "code",
   "execution_count": 1,
   "id": "c4a17d46",
   "metadata": {},
   "outputs": [],
   "source": [
    "# env.render()"
   ]
  },
  {
   "cell_type": "code",
   "execution_count": null,
   "id": "6611eecc",
   "metadata": {},
   "outputs": [],
   "source": []
  }
 ],
 "metadata": {
  "kernelspec": {
   "display_name": "Python 3 (ipykernel)",
   "language": "python",
   "name": "python3"
  },
  "language_info": {
   "codemirror_mode": {
    "name": "ipython",
    "version": 3
   },
   "file_extension": ".py",
   "mimetype": "text/x-python",
   "name": "python",
   "nbconvert_exporter": "python",
   "pygments_lexer": "ipython3",
   "version": "3.11.5"
  }
 },
 "nbformat": 4,
 "nbformat_minor": 5
}
