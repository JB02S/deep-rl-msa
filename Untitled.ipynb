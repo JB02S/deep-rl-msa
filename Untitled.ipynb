{
 "cells": [
  {
   "cell_type": "code",
   "execution_count": 45,
   "id": "1fa125d5",
   "metadata": {},
   "outputs": [],
   "source": [
    "from torch.utils.tensorboard import SummaryWriter\n",
    "import time\n",
    "import wandb\n",
    "import torch\n",
    "import gymnasium as gym\n",
    "import torch\n",
    "import torch.nn as nn\n",
    "import numpy as np\n",
    "import torch.optim as optim\n",
    "from torch.distributions.categorical import Categorical"
   ]
  },
  {
   "cell_type": "code",
   "execution_count": 3,
   "id": "a4889be1",
   "metadata": {
    "scrolled": true
   },
   "outputs": [],
   "source": [
    "# !pip install tensorboard\n",
    "# !pip install wandb\n",
    "# !pip install gymnasium\n",
    "# !pip install moviepy\n",
    "# !pip install pygame\n",
    "# !pip install ffmpeg\n",
    "# !pip install imageio-ffmpeg\n",
    "# !pip install moviepy --upgrade\n",
    "# API_KEY: 7fce0990decfdbf4197383259e986b412c27dcfa"
   ]
  },
  {
   "cell_type": "code",
   "execution_count": 66,
   "id": "0373eca9",
   "metadata": {},
   "outputs": [],
   "source": [
    "# Necessary args\n",
    "args = {\n",
    "    \"exp_name\" : \"ppo\",\n",
    "    \"gym_id\" : \"CartPole-v1\",\n",
    "    \"learning_rate\" : 0.0025,\n",
    "    \"seed\" : 1,\n",
    "    \"total_timesteps\" : 25000,\n",
    "    \"torch_deterministic\" : True,\n",
    "    \"track\":True,\n",
    "    \"wandb_project_name\": \"CleanRL\",\n",
    "    \"wandb_entity\": \"j\",\n",
    "    \"num_steps\": 128,\n",
    "    \"num_envs\": 4,\n",
    "}\n"
   ]
  },
  {
   "cell_type": "code",
   "execution_count": 27,
   "id": "ad96ce9d",
   "metadata": {},
   "outputs": [],
   "source": [
    "run_name = f\"{args['gym_id']}__{args['exp_name']}__{args['seed']}__{int(time.time())}\""
   ]
  },
  {
   "cell_type": "code",
   "execution_count": 28,
   "id": "cf6e5103",
   "metadata": {
    "scrolled": true
   },
   "outputs": [],
   "source": [
    "# if args[\"track\"]:\n",
    "#     wandb.init(\n",
    "#         project = args[\"wandb_project_name\"],\n",
    "#         entity = args[\"wandb_entity\"],\n",
    "#         sync_tensorboard = True,\n",
    "#         config = args,\n",
    "#         name = run_name,\n",
    "#         monitor_gym = True,\n",
    "#         save_code = True,\n",
    "#     )"
   ]
  },
  {
   "cell_type": "code",
   "execution_count": 29,
   "id": "a4e6f425",
   "metadata": {},
   "outputs": [],
   "source": [
    "writer = SummaryWriter(f\"runs/{run_name}\")\n",
    "writer.add_text(\n",
    "    \"hyperparameters\",\n",
    "    \"|param|value|\\n|-|-|\\n%s\" % (\"\\n\".join([f\"|{key}|{value}|\" for key, value in args.items()]))\n",
    ")"
   ]
  },
  {
   "cell_type": "code",
   "execution_count": 30,
   "id": "f352a816",
   "metadata": {},
   "outputs": [],
   "source": [
    "for i in range(100):\n",
    "    writer.add_scalar(\"test_loss\", i * 2, global_step = i)"
   ]
  },
  {
   "cell_type": "code",
   "execution_count": 19,
   "id": "492f5a08",
   "metadata": {},
   "outputs": [
    {
     "name": "stderr",
     "output_type": "stream",
     "text": [
      "'load_ext' is not recognized as an internal or external command,\n",
      "operable program or batch file.\n"
     ]
    }
   ],
   "source": [
    "!load_ext tensorboard"
   ]
  },
  {
   "cell_type": "code",
   "execution_count": 20,
   "id": "b6e29399",
   "metadata": {},
   "outputs": [
    {
     "name": "stderr",
     "output_type": "stream",
     "text": [
      "kill: 2640: No such process\n"
     ]
    },
    {
     "name": "stdout",
     "output_type": "stream",
     "text": [
      "^C\n"
     ]
    }
   ],
   "source": [
    "!tensorboard --logdir runs"
   ]
  },
  {
   "cell_type": "code",
   "execution_count": 31,
   "id": "228eba78",
   "metadata": {},
   "outputs": [
    {
     "name": "stdout",
     "output_type": "stream",
     "text": [
      "Moviepy - Building video C:\\Users\\the_r\\Projects\\deep-rl-msa\\videos\\rl-video-episode-0.mp4.\n",
      "Moviepy - Writing video C:\\Users\\the_r\\Projects\\deep-rl-msa\\videos\\rl-video-episode-0.mp4\n",
      "\n"
     ]
    },
    {
     "name": "stderr",
     "output_type": "stream",
     "text": [
      "                                                                                                                       \r"
     ]
    },
    {
     "name": "stdout",
     "output_type": "stream",
     "text": [
      "Moviepy - Done !\n",
      "Moviepy - video ready C:\\Users\\the_r\\Projects\\deep-rl-msa\\videos\\rl-video-episode-0.mp4\n",
      "episodic return: [14.]\n",
      "Moviepy - Building video C:\\Users\\the_r\\Projects\\deep-rl-msa\\videos\\rl-video-episode-1.mp4.\n",
      "Moviepy - Writing video C:\\Users\\the_r\\Projects\\deep-rl-msa\\videos\\rl-video-episode-1.mp4\n",
      "\n"
     ]
    },
    {
     "name": "stderr",
     "output_type": "stream",
     "text": [
      "                                                                                                                       \r"
     ]
    },
    {
     "name": "stdout",
     "output_type": "stream",
     "text": [
      "Moviepy - Done !\n",
      "Moviepy - video ready C:\\Users\\the_r\\Projects\\deep-rl-msa\\videos\\rl-video-episode-1.mp4\n",
      "episodic return: [16.]\n",
      "episodic return: [20.]\n",
      "episodic return: [35.]\n",
      "episodic return: [12.]\n",
      "episodic return: [18.]\n",
      "episodic return: [20.]\n",
      "episodic return: [12.]\n",
      "Moviepy - Building video C:\\Users\\the_r\\Projects\\deep-rl-msa\\videos\\rl-video-episode-8.mp4.\n",
      "Moviepy - Writing video C:\\Users\\the_r\\Projects\\deep-rl-msa\\videos\\rl-video-episode-8.mp4\n",
      "\n"
     ]
    },
    {
     "name": "stderr",
     "output_type": "stream",
     "text": [
      "                                                                                                                       \r"
     ]
    },
    {
     "name": "stdout",
     "output_type": "stream",
     "text": [
      "Moviepy - Done !\n",
      "Moviepy - video ready C:\\Users\\the_r\\Projects\\deep-rl-msa\\videos\\rl-video-episode-8.mp4\n",
      "episodic return: [22.]\n",
      "episodic return: [15.]\n",
      "episodic return: [16.]\n"
     ]
    }
   ],
   "source": [
    "env = gym.make(\"CartPole-v1\", render_mode=\"rgb_array\")\n",
    "env = gym.wrappers.RecordEpisodeStatistics(env)\n",
    "env = gym.wrappers.RecordVideo(env, \"videos\")\n",
    "observation, info = env.reset()\n",
    "\n",
    "for _ in range(200):\n",
    "    action = env.action_space.sample()\n",
    "    observation, reward, terminated, truncated, info = env.step(action)\n",
    "    \n",
    "    if terminated:\n",
    "        observation = env.reset()\n",
    "        print(f\"episodic return: {info['episode']['r']}\")\n",
    "\n",
    "env.close()"
   ]
  },
  {
   "cell_type": "code",
   "execution_count": 32,
   "id": "ae06d125",
   "metadata": {},
   "outputs": [],
   "source": [
    "def make_env(gym_id):\n",
    "    def thunk():\n",
    "        env = gym.make(gym_id, render_mode=\"rgb_array\")\n",
    "        env = gym.wrappers.RecordEpisodeStatistics(env)\n",
    "        env = gym.wrappers.RecordVideo(env, \"videos\")\n",
    "        return env\n",
    "    return thunk"
   ]
  },
  {
   "cell_type": "code",
   "execution_count": 33,
   "id": "e1fb72f2",
   "metadata": {},
   "outputs": [],
   "source": [
    "envs = gym.vector.SyncVectorEnv([make_env(args[\"gym_id\"])])"
   ]
  },
  {
   "cell_type": "code",
   "execution_count": 34,
   "id": "fc77a9c8",
   "metadata": {},
   "outputs": [
    {
     "name": "stdout",
     "output_type": "stream",
     "text": [
      "Moviepy - Building video C:\\Users\\the_r\\Projects\\deep-rl-msa\\videos\\rl-video-episode-0.mp4.\n",
      "Moviepy - Writing video C:\\Users\\the_r\\Projects\\deep-rl-msa\\videos\\rl-video-episode-0.mp4\n",
      "\n"
     ]
    },
    {
     "name": "stderr",
     "output_type": "stream",
     "text": [
      "                                                                                                                       \r"
     ]
    },
    {
     "name": "stdout",
     "output_type": "stream",
     "text": [
      "Moviepy - Done !\n",
      "Moviepy - video ready C:\\Users\\the_r\\Projects\\deep-rl-msa\\videos\\rl-video-episode-0.mp4\n",
      "episodic return: [22.]\n",
      "Moviepy - Building video C:\\Users\\the_r\\Projects\\deep-rl-msa\\videos\\rl-video-episode-1.mp4.\n",
      "Moviepy - Writing video C:\\Users\\the_r\\Projects\\deep-rl-msa\\videos\\rl-video-episode-1.mp4\n",
      "\n"
     ]
    },
    {
     "name": "stderr",
     "output_type": "stream",
     "text": [
      "                                                                                                                       \r"
     ]
    },
    {
     "name": "stdout",
     "output_type": "stream",
     "text": [
      "Moviepy - Done !\n",
      "Moviepy - video ready C:\\Users\\the_r\\Projects\\deep-rl-msa\\videos\\rl-video-episode-1.mp4\n",
      "episodic return: [10.]\n",
      "episodic return: [10.]\n",
      "episodic return: [16.]\n",
      "episodic return: [21.]\n",
      "episodic return: [20.]\n",
      "episodic return: [15.]\n",
      "episodic return: [19.]\n",
      "Moviepy - Building video C:\\Users\\the_r\\Projects\\deep-rl-msa\\videos\\rl-video-episode-8.mp4.\n",
      "Moviepy - Writing video C:\\Users\\the_r\\Projects\\deep-rl-msa\\videos\\rl-video-episode-8.mp4\n",
      "\n"
     ]
    },
    {
     "name": "stderr",
     "output_type": "stream",
     "text": [
      "                                                                                                                       "
     ]
    },
    {
     "name": "stdout",
     "output_type": "stream",
     "text": [
      "Moviepy - Done !\n",
      "Moviepy - video ready C:\\Users\\the_r\\Projects\\deep-rl-msa\\videos\\rl-video-episode-8.mp4\n",
      "episodic return: [13.]\n",
      "episodic return: [16.]\n",
      "episodic return: [24.]\n"
     ]
    },
    {
     "name": "stderr",
     "output_type": "stream",
     "text": [
      "\r"
     ]
    }
   ],
   "source": [
    "observation, info = envs.reset()\n",
    "\n",
    "for _ in range(200):\n",
    "    action = envs.action_space.sample()\n",
    "    observation, reward, terminated, truncated, info = envs.step(action)\n",
    "    \n",
    "    if terminated:\n",
    "        print(f\"episodic return: {info['final_info'][0]['episode']['r']}\")"
   ]
  },
  {
   "cell_type": "code",
   "execution_count": 49,
   "id": "1fb5e4c9",
   "metadata": {},
   "outputs": [],
   "source": [
    "def layer_init(layer, std=np.sqrt(2), bias_const=0.0):\n",
    "    torch.nn.init.orthogonal_(layer.weight, std)\n",
    "    torch.nn.init.constant_(layer.bias, bias_const)\n",
    "    return layer"
   ]
  },
  {
   "cell_type": "code",
   "execution_count": 57,
   "id": "a35611ea",
   "metadata": {},
   "outputs": [],
   "source": [
    "class Agent(nn.Module):\n",
    "    def __init__(self, envs):\n",
    "        super(Agent, self).__init__()\n",
    "        \n",
    "        self.critic = nn.Sequential(\n",
    "            layer_init(nn.Linear(np.array(envs.single_observation_space.shape).prod(), 64)),\n",
    "            nn.Tanh(),\n",
    "            layer_init(nn.Linear(64, 64)),\n",
    "            nn.Tanh(),\n",
    "            layer_init(nn.Linear(64, 1), std=1.),\n",
    "        )\n",
    "        \n",
    "        self.actor = nn.Sequential(\n",
    "            layer_init(nn.Linear(np.array(envs.single_observation_space.shape).prod(), 64)),\n",
    "            nn.Tanh(),\n",
    "            layer_init(nn.Linear(64, 64)),\n",
    "            nn.Tanh(),\n",
    "            layer_init(nn.Linear(64, envs.single_action_space.n), std=0.01),\n",
    "        )"
   ]
  },
  {
   "cell_type": "code",
   "execution_count": 58,
   "id": "441c6ff6",
   "metadata": {},
   "outputs": [],
   "source": [
    "device = torch.device(\"cpu\")\n",
    "agent = Agent(envs).to(device)"
   ]
  },
  {
   "cell_type": "code",
   "execution_count": 59,
   "id": "3c225a75",
   "metadata": {},
   "outputs": [
    {
     "name": "stdout",
     "output_type": "stream",
     "text": [
      "Agent(\n",
      "  (critic): Sequential(\n",
      "    (0): Linear(in_features=4, out_features=64, bias=True)\n",
      "    (1): Tanh()\n",
      "    (2): Linear(in_features=64, out_features=64, bias=True)\n",
      "    (3): Tanh()\n",
      "    (4): Linear(in_features=64, out_features=1, bias=True)\n",
      "  )\n",
      "  (actor): Sequential(\n",
      "    (0): Linear(in_features=4, out_features=64, bias=True)\n",
      "    (1): Tanh()\n",
      "    (2): Linear(in_features=64, out_features=64, bias=True)\n",
      "    (3): Tanh()\n",
      "    (4): Linear(in_features=64, out_features=2, bias=True)\n",
      "  )\n",
      ")\n"
     ]
    }
   ],
   "source": [
    "print(agent)"
   ]
  },
  {
   "cell_type": "code",
   "execution_count": 63,
   "id": "8bbfccc6",
   "metadata": {},
   "outputs": [],
   "source": [
    "optimizer = optim.Adam(agent.parameters(), lr=args[\"learning_rate\"], eps=1e-5)"
   ]
  },
  {
   "cell_type": "code",
   "execution_count": 67,
   "id": "a46b9e95",
   "metadata": {},
   "outputs": [],
   "source": [
    "obs = torch.zeros((args[\"num_steps\"], args[\"num_envs\"]) + envs.single_observation_space.shape).to(device)\n",
    "actions = torch.zeros((args[\"num_steps\"], args[\"num_envs\"]) + envs.single_action_space.shape).to(device)\n",
    "logprobs = torch.zeros((args[\"num_steps\"], args[\"num_envs\"])).to(device)\n",
    "rewards = torch.zeros((args[\"num_steps\"], args[\"num_envs\"])).to(device)\n",
    "dones = torch.zeros((args[\"num_steps\"], args[\"num_envs\"])).to(device)\n",
    "values = torch.zeros((args[\"num_steps\"], args[\"num_envs\"])).to(device)"
   ]
  },
  {
   "cell_type": "code",
   "execution_count": null,
   "id": "6fedaebf",
   "metadata": {},
   "outputs": [],
   "source": []
  }
 ],
 "metadata": {
  "kernelspec": {
   "display_name": "Python 3 (ipykernel)",
   "language": "python",
   "name": "python3"
  },
  "language_info": {
   "codemirror_mode": {
    "name": "ipython",
    "version": 3
   },
   "file_extension": ".py",
   "mimetype": "text/x-python",
   "name": "python",
   "nbconvert_exporter": "python",
   "pygments_lexer": "ipython3",
   "version": "3.9.13"
  }
 },
 "nbformat": 4,
 "nbformat_minor": 5
}
